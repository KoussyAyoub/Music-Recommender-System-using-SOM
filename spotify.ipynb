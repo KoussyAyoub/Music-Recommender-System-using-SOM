{
 "cells": [
  {
   "cell_type": "code",
   "execution_count": 23,
   "metadata": {},
   "outputs": [],
   "source": [
    "import spotipy\n",
    "from spotipy.oauth2 import SpotifyClientCredentials\n",
    "from spotipy.oauth2 import SpotifyOAuth\n",
    "import spotipy.util as util\n",
    "import sys"
   ]
  },
  {
   "cell_type": "code",
   "execution_count": 12,
   "metadata": {},
   "outputs": [],
   "source": [
    "#client id and secret for my application\n",
    "client_id = '7121fea2c5374cb2a4915ce25eae38ad'\n",
    "client_secret= '38eae86b44974aa59bbe404c6135998f'"
   ]
  },
  {
   "cell_type": "code",
   "execution_count": 25,
   "metadata": {},
   "outputs": [],
   "source": [
    "scope = 'user-library-read'\n",
    "\n",
    "if len(sys.argv) > 1:\n",
    "    username = sys.argv[1]\n",
    "else:\n",
    "    print(\"Usage: %s username\" % (sys.argv[0],))\n",
    "    sys.exit()"
   ]
  },
  {
   "cell_type": "code",
   "execution_count": 26,
   "metadata": {},
   "outputs": [],
   "source": [
    "auth_manager = SpotifyClientCredentials(client_id=client_id, client_secret=client_secret)\n",
    "sp = spotipy.Spotify(auth_manager=auth_manager)"
   ]
  },
  {
   "cell_type": "code",
   "execution_count": 27,
   "metadata": {},
   "outputs": [],
   "source": [
    "token = util.prompt_for_user_token(scope, client_id= client_id, client_secret=client_secret, redirect_uri='http://127.0.0.1:5000')"
   ]
  },
  {
   "cell_type": "code",
   "execution_count": 28,
   "metadata": {},
   "outputs": [],
   "source": [
    "sp = spotipy.Spotify(auth=token)"
   ]
  },
  {
   "cell_type": "code",
   "execution_count": 35,
   "metadata": {},
   "outputs": [],
   "source": [
    "#gather playlist names and images. \n",
    "#images aren't going to be used until I start building a UI\n",
    "id_name = {}\n",
    "list_photo = {}\n",
    "for i in sp.current_user_playlists()['items']:\n",
    "\n",
    "    id_name[i['name']] = i['uri'].split(':')[2]\n",
    "    list_photo[i['uri'].split(':')[2]] = i['images'][0]['url']"
   ]
  },
  {
   "cell_type": "code",
   "execution_count": 36,
   "metadata": {},
   "outputs": [
    {
     "data": {
      "text/plain": [
       "{'WILI': '6Bdvs8s6DqK1FsL6R9Xhox', 'Monster': '1KYW4t2n4tAr2IhJc3pNg0'}"
      ]
     },
     "execution_count": 36,
     "metadata": {},
     "output_type": "execute_result"
    }
   ],
   "source": [
    "id_name"
   ]
  },
  {
   "cell_type": "code",
   "execution_count": 37,
   "metadata": {},
   "outputs": [],
   "source": [
    "def create_necessary_outputs(playlist_name,id_dic, df):\n",
    "    \"\"\" \n",
    "    Pull songs from a specific playlist.\n",
    "\n",
    "    Parameters: \n",
    "        playlist_name (str): name of the playlist you'd like to pull from the spotify API\n",
    "        id_dic (dic): dictionary that maps playlist_name to playlist_id\n",
    "        df (pandas dataframe): spotify datafram\n",
    "        \n",
    "    Returns: \n",
    "        playlist: all songs in the playlist THAT ARE AVAILABLE IN THE KAGGLE DATASET\n",
    "    \"\"\"\n",
    "    \n",
    "    #generate playlist dataframe\n",
    "    playlist = pd.DataFrame()\n",
    "    playlist_name = playlist_name\n",
    "\n",
    "    for ix, i in enumerate(sp.playlist(id_dic[playlist_name])['tracks']['items']):\n",
    "        #print(i['track']['artists'][0]['name'])\n",
    "        playlist.loc[ix, 'artist'] = i['track']['artists'][0]['name']\n",
    "        playlist.loc[ix, 'name'] = i['track']['name']\n",
    "        playlist.loc[ix, 'id'] = i['track']['id'] # ['uri'].split(':')[2]\n",
    "        playlist.loc[ix, 'url'] = i['track']['album']['images'][1]['url']\n",
    "        playlist.loc[ix, 'date_added'] = i['added_at']\n",
    "\n",
    "    playlist['date_added'] = pd.to_datetime(playlist['date_added'])  \n",
    "    \n",
    "    playlist = playlist[playlist['id'].isin(df['id'].values)].sort_values('date_added',ascending = False)\n",
    "    \n",
    "    return playlist"
   ]
  },
  {
   "cell_type": "code",
   "execution_count": 38,
   "metadata": {},
   "outputs": [],
   "source": [
    "import pandas as pd\n",
    "\n",
    "# create an empty dataframe with the specified columns\n",
    "df = pd.DataFrame(columns=['artist', 'name', 'id', 'url', 'date_added'])"
   ]
  },
  {
   "cell_type": "code",
   "execution_count": 41,
   "metadata": {},
   "outputs": [],
   "source": [
    "playlist_EDM = create_necessary_outputs('WILI', id_name,df)\n",
    "#playlist_chill = create_necessary_outputs('chill',id_name, spotify_df)\n",
    "#playlist_classical = create_necessary_outputs('Epic Classical',id_name, spotify_df)"
   ]
  },
  {
   "cell_type": "code",
   "execution_count": 43,
   "metadata": {},
   "outputs": [
    {
     "data": {
      "text/html": [
       "<div>\n",
       "<style scoped>\n",
       "    .dataframe tbody tr th:only-of-type {\n",
       "        vertical-align: middle;\n",
       "    }\n",
       "\n",
       "    .dataframe tbody tr th {\n",
       "        vertical-align: top;\n",
       "    }\n",
       "\n",
       "    .dataframe thead th {\n",
       "        text-align: right;\n",
       "    }\n",
       "</style>\n",
       "<table border=\"1\" class=\"dataframe\">\n",
       "  <thead>\n",
       "    <tr style=\"text-align: right;\">\n",
       "      <th></th>\n",
       "      <th>artist</th>\n",
       "      <th>name</th>\n",
       "      <th>id</th>\n",
       "      <th>url</th>\n",
       "      <th>date_added</th>\n",
       "    </tr>\n",
       "  </thead>\n",
       "  <tbody>\n",
       "  </tbody>\n",
       "</table>\n",
       "</div>"
      ],
      "text/plain": [
       "Empty DataFrame\n",
       "Columns: [artist, name, id, url, date_added]\n",
       "Index: []"
      ]
     },
     "execution_count": 43,
     "metadata": {},
     "output_type": "execute_result"
    }
   ],
   "source": [
    "playlist_EDM"
   ]
  },
  {
   "cell_type": "code",
   "execution_count": 17,
   "metadata": {},
   "outputs": [
    {
     "ename": "SpotifyOauthError",
     "evalue": "No client_id. Pass it or set a SPOTIPY_CLIENT_ID environment variable.",
     "output_type": "error",
     "traceback": [
      "\u001b[1;31m---------------------------------------------------------------------------\u001b[0m",
      "\u001b[1;31mSpotifyOauthError\u001b[0m                         Traceback (most recent call last)",
      "Cell \u001b[1;32mIn[17], line 72\u001b[0m\n\u001b[0;32m     67\u001b[0m             writer\u001b[39m.\u001b[39mwriterow(row)\n\u001b[0;32m     70\u001b[0m     \u001b[39mreturn\u001b[39;00m track_features \n\u001b[1;32m---> 72\u001b[0m sp \u001b[39m=\u001b[39m spotipy\u001b[39m.\u001b[39mSpotify(auth_manager\u001b[39m=\u001b[39mspotipy\u001b[39m.\u001b[39;49mSpotifyOAuth(client_id \u001b[39m=\u001b[39;49m client_id, client_secret \u001b[39m=\u001b[39;49m client_secret , redirect_uri\u001b[39m=\u001b[39;49m\u001b[39m\"\u001b[39;49m\u001b[39mhttp://127.0.0.1:5000\u001b[39;49m\u001b[39m\"\u001b[39;49m, scope\u001b[39m=\u001b[39;49mscopes, requests_timeout \u001b[39m=\u001b[39;49m \u001b[39m10\u001b[39;49m))\n\u001b[0;32m     74\u001b[0m \u001b[39mtry\u001b[39;00m:\n\u001b[0;32m     75\u001b[0m     \u001b[39m# Let's extract the name and id of my playlists \u001b[39;00m\n\u001b[0;32m     76\u001b[0m     my_playlists \u001b[39m=\u001b[39m []\n",
      "File \u001b[1;32mc:\\Users\\viet\\Desktop\\lzaar\\.venv\\Lib\\site-packages\\spotipy\\oauth2.py:332\u001b[0m, in \u001b[0;36mSpotifyOAuth.__init__\u001b[1;34m(self, client_id, client_secret, redirect_uri, state, scope, cache_path, username, proxies, show_dialog, requests_session, requests_timeout, open_browser, cache_handler)\u001b[0m\n\u001b[0;32m    303\u001b[0m \u001b[39m\u001b[39m\u001b[39m\"\"\"\u001b[39;00m\n\u001b[0;32m    304\u001b[0m \u001b[39mCreates a SpotifyOAuth object\u001b[39;00m\n\u001b[0;32m    305\u001b[0m \n\u001b[1;32m   (...)\u001b[0m\n\u001b[0;32m    327\u001b[0m \u001b[39m                      (takes precedence over `cache_path` and `username`)\u001b[39;00m\n\u001b[0;32m    328\u001b[0m \u001b[39m\"\"\"\u001b[39;00m\n\u001b[0;32m    330\u001b[0m \u001b[39msuper\u001b[39m(SpotifyOAuth, \u001b[39mself\u001b[39m)\u001b[39m.\u001b[39m\u001b[39m__init__\u001b[39m(requests_session)\n\u001b[1;32m--> 332\u001b[0m \u001b[39mself\u001b[39;49m\u001b[39m.\u001b[39;49mclient_id \u001b[39m=\u001b[39m client_id\n\u001b[0;32m    333\u001b[0m \u001b[39mself\u001b[39m\u001b[39m.\u001b[39mclient_secret \u001b[39m=\u001b[39m client_secret\n\u001b[0;32m    334\u001b[0m \u001b[39mself\u001b[39m\u001b[39m.\u001b[39mredirect_uri \u001b[39m=\u001b[39m redirect_uri\n",
      "File \u001b[1;32mc:\\Users\\viet\\Desktop\\lzaar\\.venv\\Lib\\site-packages\\spotipy\\oauth2.py:94\u001b[0m, in \u001b[0;36mSpotifyAuthBase.client_id\u001b[1;34m(self, val)\u001b[0m\n\u001b[0;32m     92\u001b[0m \u001b[39m@client_id\u001b[39m\u001b[39m.\u001b[39msetter\n\u001b[0;32m     93\u001b[0m \u001b[39mdef\u001b[39;00m \u001b[39mclient_id\u001b[39m(\u001b[39mself\u001b[39m, val):\n\u001b[1;32m---> 94\u001b[0m     \u001b[39mself\u001b[39m\u001b[39m.\u001b[39m_client_id \u001b[39m=\u001b[39m _ensure_value(val, \u001b[39m\"\u001b[39;49m\u001b[39mclient_id\u001b[39;49m\u001b[39m\"\u001b[39;49m)\n",
      "File \u001b[1;32mc:\\Users\\viet\\Desktop\\lzaar\\.venv\\Lib\\site-packages\\spotipy\\oauth2.py:70\u001b[0m, in \u001b[0;36m_ensure_value\u001b[1;34m(value, env_key)\u001b[0m\n\u001b[0;32m     65\u001b[0m \u001b[39mif\u001b[39;00m _val \u001b[39mis\u001b[39;00m \u001b[39mNone\u001b[39;00m:\n\u001b[0;32m     66\u001b[0m     msg \u001b[39m=\u001b[39m \u001b[39m\"\u001b[39m\u001b[39mNo \u001b[39m\u001b[39m%s\u001b[39;00m\u001b[39m. Pass it or set a \u001b[39m\u001b[39m%s\u001b[39;00m\u001b[39m environment variable.\u001b[39m\u001b[39m\"\u001b[39m \u001b[39m%\u001b[39m (\n\u001b[0;32m     67\u001b[0m         env_key,\n\u001b[0;32m     68\u001b[0m         env_val,\n\u001b[0;32m     69\u001b[0m     )\n\u001b[1;32m---> 70\u001b[0m     \u001b[39mraise\u001b[39;00m SpotifyOauthError(msg)\n\u001b[0;32m     71\u001b[0m \u001b[39mreturn\u001b[39;00m _val\n",
      "\u001b[1;31mSpotifyOauthError\u001b[0m: No client_id. Pass it or set a SPOTIPY_CLIENT_ID environment variable."
     ]
    }
   ],
   "source": [
    "import os \n",
    "from requests import post, get\n",
    "from dotenv import load_dotenv\n",
    "import spotipy\n",
    "from spotipy.oauth2 import SpotifyClientCredentials\n",
    "from spotipy.oauth2 import SpotifyOAuth\n",
    "\n",
    "\n",
    "import csv\n",
    "\n",
    "load_dotenv()\n",
    "\n",
    "client_id = os.getenv('7121fea2c5374cb2a4915ce25eae38ad')\n",
    "client_secret = os.getenv('38eae86b44974aa59bbe404c6135998f')\n",
    "\n",
    "rap_playlist_id = '6Bdvs8s6DqK1FsL6R9Xhox'\n",
    "\n",
    "scopes = 'user-read-currently-playing user-top-read'\n",
    "\n",
    "\n",
    "def get_playlist_tracks(playlist_name, playlist_id): \n",
    "    '''\n",
    "    this function retrieves the users playlist, get all of the tracks in that playlist, then gets the audio features of them,\n",
    "      finally saves them in csv file\n",
    "    '''\n",
    "\n",
    "    # get the number of tracks in the list\n",
    "    playlist = sp.playlist(playlist_id=playlist_id)\n",
    "    total_tracks = playlist['tracks']['total']\n",
    "    print(\"the total number of tracks : \", total_tracks)\n",
    "    \n",
    "    \n",
    "    # Let's get the all the track ids of our playlist\n",
    "    i = 0\n",
    "    playlist_tracks= []\n",
    "    while total_tracks > 0 :\n",
    "        offset = i \n",
    "        for j in range(len(sp.playlist_items(playlist_id=playlist_id, limit= 100)['items'])) :\n",
    "            try :\n",
    "                track_id = sp.playlist_items(playlist_id=playlist_id, offset=offset)['items'][j]['track']['id'] # adds to a list of track ids \n",
    "                playlist_tracks.append(track_id)\n",
    "                print('track ',j, 'has the id : ', track_id)\n",
    "            except :\n",
    "                break\n",
    "        i += 100\n",
    "        total_tracks -= 100\n",
    "    \n",
    "    print(\"*\"*200)\n",
    "    \n",
    "    # Let's now get the features of the tracks ids we got from the playlist  \n",
    "    track_features = []\n",
    "    for k in range(len(playlist_tracks)): \n",
    "        track_id = playlist_tracks[k]\n",
    "        feature_dic = sp.audio_features(track_id)[0]\n",
    "        feature_dic.pop('duration_ms') # no need for duration\n",
    "        track_ft = list(feature_dic.values())\n",
    "        no_str_fts = [item for item in track_ft if not isinstance(item, str)]\n",
    "        print(\"track \", k ,\"has this features :\", no_str_fts)\n",
    "        track_features.append(no_str_fts)\n",
    "    \n",
    "    # Let's now right this playlist content in a csv file\n",
    "    print(\"now let's write \"+playlist_name+\" in a csv file :\")\n",
    "    with open(playlist_name+'_playlist.csv', \"w\") as f :\n",
    "        writer = csv.writer(f)\n",
    "\n",
    "        for row in track_features : \n",
    "            writer.writerow(row)\n",
    "\n",
    "\n",
    "    return track_features \n",
    "\n",
    "sp = spotipy.Spotify(auth_manager=spotipy.SpotifyOAuth(client_id = client_id, client_secret = client_secret , redirect_uri=\"http://127.0.0.1:5000\", scope=scopes, requests_timeout = 10))\n",
    "\n",
    "try:\n",
    "    # Let's extract the name and id of my playlists \n",
    "    my_playlists = []\n",
    "    for i in range(10) : \n",
    "        playlist_name, playlist_id = sp.current_user_playlists()['items'][i]['name'], sp.current_user_playlists()['items'][i]['id']\n",
    "        tmp = [playlist_name, playlist_id]\n",
    "        my_playlists.append(tmp)\n",
    "        print(playlist_name, playlist_id)\n",
    "\n",
    "    # now let's write our playlists in csv files \n",
    "    for playlist_name , playlist_id in my_playlists : # for \n",
    "        playlist_tracks = get_playlist_tracks(playlist_name, playlist_id)\n",
    "\n",
    "    ''' \n",
    "    # my top artists :o\n",
    "    my_top_artists = []\n",
    "    for j in range(10) :\n",
    "        top_artist, artist_id = sp.current_user_top_artists()['items'][j]['name'], sp.current_user_top_artists()['items'][j]['name']\n",
    "        my_top_artists.append([top_artist, artist_id])\n",
    "        print(top_artist)'''\n",
    "\n",
    "except spotipy.SpotifyOauthError as e: # refresh the access token \n",
    "    sp = spotipy.Spotify(auth_manager=spotipy.SpotifyOAuth(client_id = client_id, client_secret = client_secret , redirect_uri=\"http://127.0.0.1:5000\", scope=scopes))"
   ]
  },
  {
   "cell_type": "code",
   "execution_count": null,
   "metadata": {},
   "outputs": [],
   "source": []
  },
  {
   "cell_type": "code",
   "execution_count": null,
   "metadata": {},
   "outputs": [],
   "source": [
    "#    nex tesrg "
   ]
  },
  {
   "cell_type": "code",
   "execution_count": 5,
   "metadata": {},
   "outputs": [
    {
     "ename": "KeyError",
     "evalue": "'items'",
     "output_type": "error",
     "traceback": [
      "\u001b[1;31m---------------------------------------------------------------------------\u001b[0m",
      "\u001b[1;31mKeyError\u001b[0m                                  Traceback (most recent call last)",
      "Cell \u001b[1;32mIn[5], line 26\u001b[0m\n\u001b[0;32m     23\u001b[0m     playlists_response \u001b[39m=\u001b[39m requests\u001b[39m.\u001b[39mget(playlists_url, headers\u001b[39m=\u001b[39mheaders)\n\u001b[0;32m     24\u001b[0m     \u001b[39mreturn\u001b[39;00m playlists_response\u001b[39m.\u001b[39mjson()[\u001b[39m'\u001b[39m\u001b[39mitems\u001b[39m\u001b[39m'\u001b[39m]\n\u001b[1;32m---> 26\u001b[0m playlists \u001b[39m=\u001b[39m get_playlists(access_token)\n\u001b[0;32m     28\u001b[0m \u001b[39m# Step 3: Fetch the tracks for each playlist\u001b[39;00m\n\u001b[0;32m     29\u001b[0m \u001b[39mdef\u001b[39;00m \u001b[39mget_playlist_tracks\u001b[39m(access_token, playlist_id):\n",
      "Cell \u001b[1;32mIn[5], line 24\u001b[0m, in \u001b[0;36mget_playlists\u001b[1;34m(access_token)\u001b[0m\n\u001b[0;32m     22\u001b[0m playlists_url \u001b[39m=\u001b[39m \u001b[39m'\u001b[39m\u001b[39mhttps://api.spotify.com/v1/me/playlists\u001b[39m\u001b[39m'\u001b[39m\n\u001b[0;32m     23\u001b[0m playlists_response \u001b[39m=\u001b[39m requests\u001b[39m.\u001b[39mget(playlists_url, headers\u001b[39m=\u001b[39mheaders)\n\u001b[1;32m---> 24\u001b[0m \u001b[39mreturn\u001b[39;00m playlists_response\u001b[39m.\u001b[39;49mjson()[\u001b[39m'\u001b[39;49m\u001b[39mitems\u001b[39;49m\u001b[39m'\u001b[39;49m]\n",
      "\u001b[1;31mKeyError\u001b[0m: 'items'"
     ]
    }
   ],
   "source": [
    "import requests\n",
    "\n",
    "client_id = '7121fea2c5374cb2a4915ce25eae38ad'\n",
    "client_secret = '38eae86b44974aa59bbe404c6135998f'\n",
    "\n",
    "# Step 1: Obtain an access token using the Client Credentials Flow\n",
    "def get_access_token(client_id, client_secret):\n",
    "    auth_url = 'https://accounts.spotify.com/api/token'\n",
    "    auth_data = {\n",
    "        'grant_type': 'client_credentials'\n",
    "    }\n",
    "    auth_response = requests.post(auth_url, data=auth_data, auth=(client_id, client_secret))\n",
    "    return auth_response.json()['access_token']\n",
    "\n",
    "access_token = get_access_token(client_id, client_secret)\n",
    "\n",
    "# Step 2: Fetch the list of playlists\n",
    "def get_playlists(access_token):\n",
    "    headers = {\n",
    "        'Authorization': f'Bearer {access_token}'\n",
    "    }\n",
    "    playlists_url = 'https://api.spotify.com/v1/me/playlists'\n",
    "    playlists_response = requests.get(playlists_url, headers=headers)\n",
    "    return playlists_response.json()['items']\n",
    "\n",
    "playlists = get_playlists(access_token)\n",
    "\n",
    "# Step 3: Fetch the tracks for each playlist\n",
    "def get_playlist_tracks(access_token, playlist_id):\n",
    "    headers = {\n",
    "        'Authorization': f'Bearer {access_token}'\n",
    "    }\n",
    "    tracks_url = f'https://api.spotify.com/v1/playlists/{playlist_id}/tracks'\n",
    "    tracks_response = requests.get(tracks_url, headers=headers)\n",
    "    return tracks_response.json()['items']\n",
    "\n",
    "for playlist in playlists:\n",
    "    print(f\"Playlist: {playlist['name']}\")\n",
    "    tracks = get_playlist_tracks(access_token, playlist['id'])\n",
    "    for track in tracks:\n",
    "        print(f\"  Track: {track['track']['name']} by {', '.join([artist['name'] for artist in track['track']['artists']])}\")\n",
    "    print()\n",
    "\n",
    "\n"
   ]
  },
  {
   "cell_type": "code",
   "execution_count": 1,
   "metadata": {},
   "outputs": [],
   "source": [
    "import requests\n",
    "import json\n",
    "import base64\n",
    "import webbrowser\n",
    "from urllib.parse import urlencode, urlparse, parse_qs\n",
    "from http.server import BaseHTTPRequestHandler, HTTPServer\n",
    "\n",
    "client_id = '7121fea2c5374cb2a4915ce25eae38ad'\n",
    "client_secret = '38eae86b44974aa59bbe404c6135998f'\n",
    "redirect_uri = 'http://127.0.0.1:5000'\n",
    "\n",
    "# Step 1: Obtain an authorization code\n",
    "auth_url = 'https://accounts.spotify.com/authorize'\n",
    "auth_params = {\n",
    "    'client_id': client_id,\n",
    "    'response_type': 'code',\n",
    "    'redirect_uri': redirect_uri,\n",
    "    'scope': 'playlist-read-private playlist-read-collaborative'\n",
    "}\n",
    "auth_query = urlencode(auth_params)\n",
    "webbrowser.open(f'{auth_url}?{auth_query}')\n",
    "\n",
    "# Step 2: Get the authorization code from the redirected URL\n",
    "redirected_url = input('Enter the redirected URL: ')\n",
    "parsed_url = urlparse(redirected_url)\n",
    "auth_code = parse_qs(parsed_url.query)['code'][0]\n",
    "\n",
    "# Step 3: Exchange the authorization code for an access token\n",
    "token_url = 'https://accounts.spotify.com/api/token'\n",
    "token_data = {\n",
    "    'grant_type': 'authorization_code',\n",
    "    'code': auth_code,\n",
    "    'redirect_uri': redirect_uri\n",
    "}\n",
    "client_creds = f'{client_id}:{client_secret}'\n",
    "client_creds_b64 = base64.b64encode(client_creds.encode()).decode()\n",
    "token_headers = {\n",
    "    'Authorization': f'Basic {client_creds_b64}'\n",
    "}\n",
    "token_response = requests.post(token_url, data=token_data, headers=token_headers)\n",
    "access_token = token_response.json()['access_token']\n",
    "\n",
    "# Step 4: Fetch the list of playlists\n",
    "def get_playlists(access_token):\n",
    "    headers = {\n",
    "        'Authorization': f'Bearer {access_token}'\n",
    "    }\n",
    "    playlists_url = 'https://api.spotify.com/v1/me/playlists'\n",
    "    playlists_response = requests.get(playlists_url, headers=headers)\n",
    "    return playlists_response.json()['items']\n",
    "\n",
    "playlists = get_playlists(access_token)\n",
    "\n",
    "# Step 5: Fetch the tracks for each playlist\n",
    "def get_playlist_tracks(access_token, playlist_id):\n",
    "    headers = {\n",
    "        'Authorization': f'Bearer {access_token}'\n",
    "    }\n",
    "    tracks_url = f'https://api.spotify.com/v1/playlists/{playlist_id}/tracks'\n",
    "    tracks_response = requests.get(tracks_url, headers=headers)\n",
    "    return tracks_response.json()['items']\n",
    "\n",
    "for playlist in playlists:\n",
    "    print(f\"Playlist: {playlist['name']}\")\n",
    "    tracks = get_playlist_tracks(access_token, playlist['id'])\n",
    "    for track in tracks:\n",
    "        print(f\"  Track: {track['track']['name']} by {', '.join([artist['name'] for artist in track['track']['artists']])}\")\n",
    "    print()\n"
   ]
  },
  {
   "cell_type": "code",
   "execution_count": null,
   "metadata": {},
   "outputs": [],
   "source": []
  },
  {
   "cell_type": "code",
   "execution_count": 1,
   "metadata": {},
   "outputs": [],
   "source": [
    "import spotipy\n",
    "from spotipy.oauth2 import SpotifyClientCredentials"
   ]
  },
  {
   "cell_type": "code",
   "execution_count": 2,
   "metadata": {},
   "outputs": [],
   "source": [
    "cid = '7121fea2c5374cb2a4915ce25eae38ad'\n",
    "secret = '38eae86b44974aa59bbe404c6135998f'\n",
    "#Authentication - without user\n",
    "client_credentials_manager = SpotifyClientCredentials(client_id=cid, client_secret=secret)\n",
    "sp = spotipy.Spotify(client_credentials_manager = client_credentials_manager)"
   ]
  },
  {
   "cell_type": "code",
   "execution_count": 3,
   "metadata": {},
   "outputs": [],
   "source": [
    "playlist_link = \"https://open.spotify.com/playlist/37i9dQZEVXbNG2KDcFcKOF?si=1333723a6eff4b7f\"\n",
    "playlist_URI = playlist_link.split(\"/\")[-1].split(\"?\")[0]\n",
    "track_uris = [x[\"track\"][\"uri\"] for x in sp.playlist_tracks(playlist_URI)[\"items\"]]"
   ]
  },
  {
   "cell_type": "code",
   "execution_count": 4,
   "metadata": {},
   "outputs": [],
   "source": [
    "for track in sp.playlist_tracks(playlist_URI)[\"items\"]:\n",
    "    #URI\n",
    "    track_uri = track[\"track\"][\"uri\"]\n",
    "    \n",
    "    #Track name\n",
    "    track_name = track[\"track\"][\"name\"]\n",
    "    \n",
    "    #Main Artist\n",
    "    artist_uri = track[\"track\"][\"artists\"][0][\"uri\"]\n",
    "    artist_info = sp.artist(artist_uri)\n",
    "    \n",
    "    #Name, popularity, genre\n",
    "    artist_name = track[\"track\"][\"artists\"][0][\"name\"]\n",
    "    artist_pop = artist_info[\"popularity\"]\n",
    "    artist_genres = artist_info[\"genres\"]\n",
    "    \n",
    "    #Album\n",
    "    album = track[\"track\"][\"album\"][\"name\"]\n",
    "    \n",
    "    #Popularity of the track\n",
    "    track_pop = track[\"track\"][\"popularity\"]"
   ]
  },
  {
   "cell_type": "code",
   "execution_count": 5,
   "metadata": {},
   "outputs": [
    {
     "data": {
      "text/plain": [
       "{'danceability': 0.429,\n",
       " 'energy': 0.661,\n",
       " 'key': 11,\n",
       " 'loudness': -7.227,\n",
       " 'mode': 1,\n",
       " 'speechiness': 0.0281,\n",
       " 'acousticness': 0.00239,\n",
       " 'instrumentalness': 0.000121,\n",
       " 'liveness': 0.234,\n",
       " 'valence': 0.285,\n",
       " 'tempo': 173.372,\n",
       " 'type': 'audio_features',\n",
       " 'id': '3AJwUDP919kvQ9QcozQPxg',\n",
       " 'uri': 'spotify:track:3AJwUDP919kvQ9QcozQPxg',\n",
       " 'track_href': 'https://api.spotify.com/v1/tracks/3AJwUDP919kvQ9QcozQPxg',\n",
       " 'analysis_url': 'https://api.spotify.com/v1/audio-analysis/3AJwUDP919kvQ9QcozQPxg',\n",
       " 'duration_ms': 266773,\n",
       " 'time_signature': 4}"
      ]
     },
     "execution_count": 5,
     "metadata": {},
     "output_type": "execute_result"
    }
   ],
   "source": [
    "sp.audio_features(track_uri)[0]\n"
   ]
  },
  {
   "cell_type": "code",
   "execution_count": 9,
   "metadata": {},
   "outputs": [
    {
     "data": {
      "text/plain": [
       "'spotify:track:3AJwUDP919kvQ9QcozQPxg'"
      ]
     },
     "execution_count": 9,
     "metadata": {},
     "output_type": "execute_result"
    }
   ],
   "source": [
    "track_uri"
   ]
  },
  {
   "cell_type": "code",
   "execution_count": null,
   "metadata": {},
   "outputs": [],
   "source": []
  }
 ],
 "metadata": {
  "kernelspec": {
   "display_name": ".venv",
   "language": "python",
   "name": "python3"
  },
  "language_info": {
   "codemirror_mode": {
    "name": "ipython",
    "version": 3
   },
   "file_extension": ".py",
   "mimetype": "text/x-python",
   "name": "python",
   "nbconvert_exporter": "python",
   "pygments_lexer": "ipython3",
   "version": "3.11.3"
  },
  "orig_nbformat": 4
 },
 "nbformat": 4,
 "nbformat_minor": 2
}
